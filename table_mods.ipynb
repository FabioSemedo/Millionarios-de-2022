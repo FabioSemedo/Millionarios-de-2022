{
 "cells": [
  {
   "cell_type": "markdown",
   "metadata": {},
   "source": [
    "Billionaires name fix"
   ]
  },
  {
   "cell_type": "code",
   "execution_count": 10,
   "metadata": {},
   "outputs": [
    {
     "name": "stdout",
     "output_type": "stream",
     "text": [
      "updated csv file\n"
     ]
    }
   ],
   "source": [
    "import pandas as pd\n",
    "from unidecode import unidecode\n",
    "\n",
    "data = pd.read_csv('TablePopulation/BackUps/Billionaires_v2.csv')\n",
    "\n",
    "text_columns = [\"last_name\",\"first_name\",\"industry\"]\n",
    "\n",
    "#replaces invalid characters to their closest ASCII equivalent\n",
    "def replace_invalid_chars(value):\n",
    "    if isinstance(value, str):\n",
    "        return unidecode(value)\n",
    "    return value\n",
    "\n",
    "#applies the above function\n",
    "for col in text_columns:\n",
    "    data[col] = data[col].apply(replace_invalid_chars)\n",
    "\n",
    "#modifies the actual .csv file\n",
    "data.to_csv('TablePopulation/BackUps/Billionaires_v2.csv', index=False, quoting= 1)\n",
    "\n",
    "print(\"updated csv file\")"
   ]
  },
  {
   "cell_type": "markdown",
   "metadata": {},
   "source": [
    "quoting every attribute"
   ]
  },
  {
   "cell_type": "code",
   "execution_count": 18,
   "metadata": {},
   "outputs": [
    {
     "name": "stdout",
     "output_type": "stream",
     "text": [
      "processed and saved: TablePopulation/BackUps\\Activities.csv\n",
      "processed and saved: TablePopulation/BackUps\\ActivitiesV2.csv\n",
      "processed and saved: TablePopulation/BackUps\\bad_Billionaires.csv\n",
      "processed and saved: TablePopulation/BackUps\\Billionaires_v2.csv\n",
      "processed and saved: TablePopulation/BackUps\\Cities.csv\n",
      "processed and saved: TablePopulation/BackUps\\Countries.csv\n",
      "processed and saved: TablePopulation/BackUps\\CountryDetails.csv\n",
      "processed and saved: TablePopulation/BackUps\\CountryNames.csv\n",
      "processed and saved: TablePopulation/BackUps\\Encoded_Test.csv\n",
      "processed and saved: TablePopulation/BackUps\\Industries.csv\n",
      "processed and saved: TablePopulation/BackUps\\MetaDetails.csv\n",
      "processed and saved: TablePopulation/BackUps\\SourcesOfWealth.csv\n",
      "processed and saved: TablePopulation/BackUps\\States.csv\n",
      "processed and saved: TablePopulation/BackUps\\USCities.csv\n",
      "Finished adding quotes\n"
     ]
    }
   ],
   "source": [
    "import pandas as pd\n",
    "import os\n",
    "\n",
    "directory_path = 'TablePopulation/BackUps'\n",
    "\n",
    "#loops through all files\n",
    "for filename in os.listdir(directory_path):\n",
    "    if filename.endswith('.csv'):\n",
    "        file_path = os.path.join(directory_path, filename)\n",
    "        \n",
    "        data = pd.read_csv(file_path)\n",
    "            \n",
    "        #adds quotes and saves all\n",
    "        output_path = os.path.join(directory_path, f'{filename}')\n",
    "        data.to_csv(output_path, index=False, quoting=1)\n",
    "            \n",
    "        print(f\"processed and saved: {output_path}\")\n",
    "\n",
    "print(\"Finished adding quotes\")\n"
   ]
  },
  {
   "cell_type": "markdown",
   "metadata": {},
   "source": [
    "quoting primary table"
   ]
  },
  {
   "cell_type": "code",
   "execution_count": 4,
   "metadata": {},
   "outputs": [
    {
     "name": "stdout",
     "output_type": "stream",
     "text": [
      "Finished adding quotes\n"
     ]
    }
   ],
   "source": [
    "import pandas as pd\n",
    "import os\n",
    "\n",
    "data = pd.read_csv('TablePopulation/BackUps/_Encoded_Test.csv')\n",
    "            \n",
    "#adds quotes and saves all\n",
    "data.to_csv('TablePopulation/BackUps/_Encoded_Test.csv', index=False, quoting=1)\n",
    "\n",
    "print(\"Finished adding quotes\")"
   ]
  },
  {
   "cell_type": "markdown",
   "metadata": {},
   "source": [
    "special characters"
   ]
  },
  {
   "cell_type": "code",
   "execution_count": 5,
   "metadata": {},
   "outputs": [
    {
     "name": "stdout",
     "output_type": "stream",
     "text": [
      "updated csv file\n"
     ]
    }
   ],
   "source": [
    "import pandas as pd\n",
    "from unidecode import unidecode\n",
    "\n",
    "data = pd.read_csv('TablePopulation/BackUps/_Encoded_Test.csv')\n",
    "\n",
    "text_columns = [\"last_name\",\"first_name\",\"industry\",\"full_name\",\"country_of_residence\",\"city_of_residence\",\"source\",\"citizenship\",\"residence_state\",\"residence_region\",\"continent\"]\n",
    "\n",
    "#replaces invalid characters to their closest ASCII equivalent\n",
    "def replace_invalid_chars(value):\n",
    "    if isinstance(value, str):\n",
    "        return unidecode(value)\n",
    "    return value\n",
    "\n",
    "#applies the above function\n",
    "for col in text_columns:\n",
    "    data[col] = data[col].apply(replace_invalid_chars)\n",
    "\n",
    "#modifies the actual .csv file\n",
    "data.to_csv('TablePopulation/BackUps/_Encoded_Test.csv', index=False, quoting= 1)\n",
    "\n",
    "print(\"updated csv file\")"
   ]
  }
 ],
 "metadata": {
  "kernelspec": {
   "display_name": "base",
   "language": "python",
   "name": "python3"
  },
  "language_info": {
   "codemirror_mode": {
    "name": "ipython",
    "version": 3
   },
   "file_extension": ".py",
   "mimetype": "text/x-python",
   "name": "python",
   "nbconvert_exporter": "python",
   "pygments_lexer": "ipython3",
   "version": "3.12.4"
  }
 },
 "nbformat": 4,
 "nbformat_minor": 2
}
